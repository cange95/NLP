{
 "cells": [
  {
   "cell_type": "markdown",
   "id": "132bb1a9",
   "metadata": {},
   "source": [
    "# Dependencies"
   ]
  },
  {
   "cell_type": "code",
   "execution_count": 48,
   "id": "de3867a6",
   "metadata": {},
   "outputs": [],
   "source": [
    "###See these links! \n",
    "###https://public.paws.wmcloud.org/47948676/03%20-%20Wikidata.ipynb\n",
    "###https://www.wikidata.org/wiki/Wikidata:Pywikibot_-_Python_3_Tutorial/Data_Harvest\n",
    "\n",
    "import pywikibot\n",
    "\n",
    "import requests\n",
    "from SPARQLWrapper import SPARQLWrapper, JSON\n",
    "import pandas as pd\n",
    "import string\n",
    "import numpy as np\n",
    "\n",
    "sparql = SPARQLWrapper(\"https://query.wikidata.org/sparql\")"
   ]
  },
  {
   "cell_type": "markdown",
   "id": "b772b69a",
   "metadata": {},
   "source": [
    "# Functions"
   ]
  },
  {
   "cell_type": "code",
   "execution_count": 49,
   "id": "7b521943",
   "metadata": {},
   "outputs": [],
   "source": [
    "###Find entity ID from its name, but using search suggestions.\n",
    "###Return first srlimit results.\n",
    "###Generic search on WikiData: use for entities inside news.\n",
    "def find_Qid_search(s, srlimit = 5):\n",
    "\n",
    "    ###See documentation https://www.mediawiki.org/wiki/API:Search\n",
    "    ###and stack overflow entry: https://stackoverflow.com/questions/55039375/why-i-only-get-one-result-of-keyword-by-wikidata-python-package\n",
    "    ###To understand why we prefer this function to simple find_Qid. It searches intelligently.\n",
    "    API_ENDPOINT = \"https://www.wikidata.org/w/api.php?\"\n",
    "\n",
    "    query = \"wikipedia\"\n",
    "\n",
    "    params = {\n",
    "            'action': 'query',\n",
    "        'list':'search',\n",
    "        'format': 'json',\n",
    "        'srsearch': s,\n",
    "        'srprop' :'titlesnippet|snippet',\n",
    "        'srlimit':srlimit,\n",
    "        'srsort':'relevance',\n",
    "    }\n",
    "\n",
    "    r = requests.get(API_ENDPOINT, params=params).json()\n",
    "    results = pd.json_normalize(r['query']['search'])\n",
    "\n",
    "    results = results[[\"title\", \"snippet\"]]\n",
    "    #return str('wd:'+ results['title'][0])\n",
    "    results['snippet'] = results['snippet'].apply(lambda x: x.replace('<span class=\"searchmatch\">',''))\n",
    "    results['snippet'] = results['snippet'].apply(lambda x: x.replace('</span>',''))\n",
    "    ##Remove entries without description\n",
    "    results['snippet'].replace('', np.nan, inplace=True)\n",
    "    results.dropna(subset=['snippet'], inplace=True)\n",
    "    \n",
    "    results['snippet'] = results['snippet'].apply(lambda x: s + \" is a \" + x )\n",
    "    return results[[\"title\", \"snippet\"]]\n",
    "\n"
   ]
  },
  {
   "cell_type": "code",
   "execution_count": 50,
   "id": "6e1da206",
   "metadata": {},
   "outputs": [],
   "source": [
    "###Find entity ID from its name\n",
    "###Exact search on WikiData: use for company name.\n",
    "def find_Qid(s):\n",
    "    ###Uses different API\n",
    "    API_ENDPOINT = \"https://www.wikidata.org/w/api.php?\"\n",
    "    \n",
    "    params = dict (\n",
    "            action='wbsearchentities',\n",
    "            format='json',\n",
    "            language='en',\n",
    "            search=s.translate(str.maketrans('','',string.punctuation))\n",
    "            )\n",
    "\n",
    "    r = requests.get(API_ENDPOINT, params=params).json()\n",
    "    first_result = r.get('search')[0]\n",
    "\n",
    "    return {'id':str('wd:'+first_result['id']), 'description':first_result['description'].replace('</span>','').replace('<span class=\"searchmatch\">','')}"
   ]
  },
  {
   "cell_type": "code",
   "execution_count": 51,
   "id": "d243d32c",
   "metadata": {},
   "outputs": [],
   "source": [
    "###Find relation between 2 entities\n",
    "def submit_query_wrapped(subj, obj, flag = 0):\n",
    "\n",
    "    try:\n",
    "\n",
    "        subj_id = find_Qid(subj)['id']\n",
    "        obj_id = find_Qid(obj)['id']\n",
    "\n",
    "        sparql.setQuery( \"\"\"\n",
    "            SELECT ?a ?propLabel\n",
    "            WHERE {\n",
    "              \"\"\"+obj_id+\"\"\" ?a \"\"\"+subj_id+\"\"\".\n",
    "              SERVICE wikibase:label { bd:serviceParam wikibase:language \"en\". }\n",
    "            ?prop wikibase:directClaim ?a .\n",
    "            }\n",
    "            \"\"\")\n",
    "        sparql.setReturnFormat(JSON)\n",
    "        results = sparql.query().convert()   \n",
    "        #print(results)\n",
    "        results_df = pd.json_normalize(results['results']['bindings'])\n",
    "\n",
    "        return results_df[['a.value', 'propLabel.value']]        \n",
    "        \n",
    "    except:\n",
    "        if flag == 0:\n",
    "            #print('Exchanging subj and obj')\n",
    "            return submit_query_wrapped(obj, subj, flag = 1)\n",
    "        else:\n",
    "            #print('Query gave no result.')\n",
    "            return []\n",
    "    return []"
   ]
  },
  {
   "cell_type": "code",
   "execution_count": 52,
   "id": "d34daeec",
   "metadata": {},
   "outputs": [],
   "source": [
    "###Make dictionary with all entities connected to a given entity, and the corresponding property\n",
    "def company_dict(company_name, verbose = 0):\n",
    "\n",
    "    my_dicts = []\n",
    "    c= 0\n",
    "    \n",
    "    try:\n",
    "        ###Search as name\n",
    "        wikidata = pywikibot.Site('wikidata', 'wikidata')\n",
    "        site = pywikibot.Site(\"en\", \"wikipedia\")\n",
    "        page = pywikibot.Page(site, company_name)\n",
    "        item = pywikibot.ItemPage.fromPage(page)\n",
    "    except:\n",
    "        ###Search as Q entity\n",
    "        wikidata = pywikibot.Site('wikidata', 'wikidata')\n",
    "        item = pywikibot.ItemPage(wikidata, company_name)\n",
    "        #item = pywikibot.ItemPage.fromPage(page)\n",
    "\n",
    "        \n",
    "        \n",
    "    item_dict = item.get() #Get the item dictionary\n",
    "    page_des = item_dict[\"descriptions\"][\"en\"] # Get the claim dictionary\n",
    "    print(page_des)\n",
    "    print('\\n')\n",
    "    \n",
    "    clm_dict = item_dict[\"claims\"] # Get the claim dictionary\n",
    "    \n",
    "    \n",
    "    for prop in clm_dict.keys():\n",
    "        \n",
    "        _property = pywikibot.PropertyPage(wikidata, str(\"Property:\"+prop))\n",
    "        prop_ID =  prop\n",
    "        prop_lab = _property.get()['labels']['en']\n",
    "        prop_des = _property.get()['descriptions']['en']\n",
    "        \n",
    "        for ent in clm_dict[prop]:\n",
    "            try:\n",
    "                \n",
    "                my_dict = {}\n",
    "                ent_ID = str(ent.getTarget()).replace('[[','').replace(']]','').replace('wikidata:','')\n",
    "                ent_lab = ent.getTarget().labels['en']\n",
    "                ent_des = ent.getTarget().descriptions['en']\n",
    "                ent_als = ent.getTarget().aliases['en']                \n",
    "\n",
    "                my_dict['Property ID'] = prop_ID\n",
    "                my_dict['Property Label'] = prop_lab\n",
    "                my_dict['Property Description'] = prop_des                \n",
    "                my_dict['Entity Label'] = ent_lab                \n",
    "                my_dict['Entity ID'] = ent_ID\n",
    "                my_dict['Entity Description'] = ent_des\n",
    "                my_dict['Entity Aliases'] = ent_als                \n",
    "                \n",
    "                c = 1\n",
    "                if verbose == 1:\n",
    "                    print(my_dict)\n",
    "                    print('\\n')\n",
    "                    \n",
    "                    print(prop_lab, ' : ', ent_lab)\n",
    "                    print('Prop description: ', _property.get()['descriptions']['en'])                    \n",
    "                    print('Entity description: ', ent.getTarget().descriptions['en'])\n",
    "                    print('Aliases: ', ent.getTarget().aliases['en'])                    \n",
    "                    print('\\n')\n",
    "\n",
    "\n",
    "                    \n",
    "            except:\n",
    "                pass\n",
    "        if c:\n",
    "            my_dicts.append(my_dict)\n",
    "            c = 0\n",
    "            \n",
    "    return my_dicts\n",
    "\n",
    "\n"
   ]
  },
  {
   "cell_type": "code",
   "execution_count": 53,
   "id": "17f7568e",
   "metadata": {},
   "outputs": [],
   "source": [
    "###Find property within given dictionary\n",
    "def find_property(value, dictionaries):\n",
    "\n",
    "    properties = []\n",
    "\n",
    "    for dictionary in dictionaries:\n",
    "        for i, values in enumerate(list(dictionary.values())):\n",
    "\n",
    "            if i != len(list(dictionary.values())) - 1:\n",
    "                if value.lower() == values.lower():    \n",
    "                    properties.append(dictionary)#(list(dictionary.keys())[i])\n",
    "                    break\n",
    "            else:\n",
    "                if value.lower() in [v.lower() for v in values]:    \n",
    "                    properties.append(dictionary)#(list(dictionary.keys())[i])\n",
    "                    break                \n",
    "                    \n",
    "    return properties\n",
    "\n"
   ]
  },
  {
   "cell_type": "markdown",
   "id": "555dbf51",
   "metadata": {},
   "source": [
    "## Test"
   ]
  },
  {
   "cell_type": "code",
   "execution_count": 61,
   "id": "5d8fd6d8",
   "metadata": {},
   "outputs": [
    {
     "data": {
      "text/html": [
       "<div>\n",
       "<style scoped>\n",
       "    .dataframe tbody tr th:only-of-type {\n",
       "        vertical-align: middle;\n",
       "    }\n",
       "\n",
       "    .dataframe tbody tr th {\n",
       "        vertical-align: top;\n",
       "    }\n",
       "\n",
       "    .dataframe thead th {\n",
       "        text-align: right;\n",
       "    }\n",
       "</style>\n",
       "<table border=\"1\" class=\"dataframe\">\n",
       "  <thead>\n",
       "    <tr style=\"text-align: right;\">\n",
       "      <th></th>\n",
       "      <th>title</th>\n",
       "      <th>snippet</th>\n",
       "    </tr>\n",
       "  </thead>\n",
       "  <tbody>\n",
       "    <tr>\n",
       "      <th>0</th>\n",
       "      <td>Q349375</td>\n",
       "      <td>Fortnite is a 2011 video game developed by Epi...</td>\n",
       "    </tr>\n",
       "    <tr>\n",
       "      <th>1</th>\n",
       "      <td>Q66067819</td>\n",
       "      <td>Fortnite is a 2018 single by Dani Faiv</td>\n",
       "    </tr>\n",
       "    <tr>\n",
       "      <th>2</th>\n",
       "      <td>Q50822580</td>\n",
       "      <td>Fortnite is a 2017 free-to-play battle royale ...</td>\n",
       "    </tr>\n",
       "    <tr>\n",
       "      <th>3</th>\n",
       "      <td>Q55456335</td>\n",
       "      <td>Fortnite is a Wikimedia disambiguation page</td>\n",
       "    </tr>\n",
       "    <tr>\n",
       "      <th>4</th>\n",
       "      <td>Q66686075</td>\n",
       "      <td>Fortnite is a annual esports competition based...</td>\n",
       "    </tr>\n",
       "  </tbody>\n",
       "</table>\n",
       "</div>"
      ],
      "text/plain": [
       "       title                                            snippet\n",
       "0    Q349375  Fortnite is a 2011 video game developed by Epi...\n",
       "1  Q66067819             Fortnite is a 2018 single by Dani Faiv\n",
       "2  Q50822580  Fortnite is a 2017 free-to-play battle royale ...\n",
       "3  Q55456335        Fortnite is a Wikimedia disambiguation page\n",
       "4  Q66686075  Fortnite is a annual esports competition based..."
      ]
     },
     "metadata": {},
     "output_type": "display_data"
    },
    {
     "data": {
      "text/html": [
       "<div>\n",
       "<style scoped>\n",
       "    .dataframe tbody tr th:only-of-type {\n",
       "        vertical-align: middle;\n",
       "    }\n",
       "\n",
       "    .dataframe tbody tr th {\n",
       "        vertical-align: top;\n",
       "    }\n",
       "\n",
       "    .dataframe thead th {\n",
       "        text-align: right;\n",
       "    }\n",
       "</style>\n",
       "<table border=\"1\" class=\"dataframe\">\n",
       "  <thead>\n",
       "    <tr style=\"text-align: right;\">\n",
       "      <th></th>\n",
       "      <th>title</th>\n",
       "      <th>snippet</th>\n",
       "    </tr>\n",
       "  </thead>\n",
       "  <tbody>\n",
       "    <tr>\n",
       "      <th>0</th>\n",
       "      <td>Q214276</td>\n",
       "      <td>MacBook Pros is a Intel-based line of Macintos...</td>\n",
       "    </tr>\n",
       "    <tr>\n",
       "      <th>2</th>\n",
       "      <td>Q20350192</td>\n",
       "      <td>MacBook Pros is a Wikimedia template</td>\n",
       "    </tr>\n",
       "    <tr>\n",
       "      <th>3</th>\n",
       "      <td>Q90950884</td>\n",
       "      <td>MacBook Pros is a scientific article published...</td>\n",
       "    </tr>\n",
       "    <tr>\n",
       "      <th>4</th>\n",
       "      <td>Q20350273</td>\n",
       "      <td>MacBook Pros is a Wikimedia template</td>\n",
       "    </tr>\n",
       "  </tbody>\n",
       "</table>\n",
       "</div>"
      ],
      "text/plain": [
       "       title                                            snippet\n",
       "0    Q214276  MacBook Pros is a Intel-based line of Macintos...\n",
       "2  Q20350192               MacBook Pros is a Wikimedia template\n",
       "3  Q90950884  MacBook Pros is a scientific article published...\n",
       "4  Q20350273               MacBook Pros is a Wikimedia template"
      ]
     },
     "metadata": {},
     "output_type": "display_data"
    }
   ],
   "source": [
    "if __name__ == \"__main__\":\n",
    "    display(find_Qid_search('Fortnite'))#.iloc[0]['snippet']\n",
    "    display(find_Qid_search('MacBook Pros'))#.iloc[0]['snippet']"
   ]
  },
  {
   "cell_type": "code",
   "execution_count": 62,
   "id": "dbdff7bc",
   "metadata": {},
   "outputs": [],
   "source": [
    "if __name__ == \"__main__\":\n",
    "    print(find_Qid('Fortnite'))"
   ]
  },
  {
   "cell_type": "code",
   "execution_count": 80,
   "id": "59b2828b",
   "metadata": {},
   "outputs": [
    {
     "name": "stdout",
     "output_type": "stream",
     "text": [
      "                                    a.value          propLabel.value\n",
      "0  http://www.wikidata.org/prop/direct/P169  chief executive officer\n",
      "                                    a.value propLabel.value\n",
      "0  http://www.wikidata.org/prop/direct/P108        employer\n"
     ]
    }
   ],
   "source": [
    "if __name__ == \"__main__\":\n",
    "    print(submit_query_wrapped('Tim Cook', 'Apple Inc.'))\n",
    "    print(submit_query_wrapped('Apple Inc.', 'Tim Cook'))"
   ]
  },
  {
   "cell_type": "code",
   "execution_count": 34,
   "id": "fe01577e",
   "metadata": {},
   "outputs": [
    {
     "name": "stdout",
     "output_type": "stream",
     "text": [
      "American technology company based in Cupertino, California\n",
      "\n",
      "\n"
     ]
    },
    {
     "name": "stderr",
     "output_type": "stream",
     "text": [
      "WARNING: wikibase-form datatype is not supported yet.\n"
     ]
    },
    {
     "data": {
      "text/plain": [
       "{'Property ID': 'P112',\n",
       " 'Property Label': 'founded by',\n",
       " 'Property Description': 'founder or co-founder of this organization, religion or place',\n",
       " 'Entity Label': 'Steve Jobs',\n",
       " 'Entity ID': 'Q19837',\n",
       " 'Entity Description': 'American entrepreneur and co-founder of Apple Inc.',\n",
       " 'Entity Aliases': ['Steven Paul Jobs', 'Steven Jobs']}"
      ]
     },
     "execution_count": 34,
     "metadata": {},
     "output_type": "execute_result"
    }
   ],
   "source": [
    "if __name__ == \"__main__\":\n",
    "    apple_dict = company_dict('Apple Inc.', verbose = 0)\n",
    "    print(apple_dict[0])"
   ]
  },
  {
   "cell_type": "code",
   "execution_count": 73,
   "id": "b7baa4aa",
   "metadata": {},
   "outputs": [
    {
     "data": {
      "text/plain": [
       "[{'Property ID': 'P112',\n",
       "  'Property Label': 'founded by',\n",
       "  'Property Description': 'founder or co-founder of this organization, religion or place',\n",
       "  'Entity Label': 'Steve Jobs',\n",
       "  'Entity ID': 'Q19837',\n",
       "  'Entity Description': 'American entrepreneur and co-founder of Apple Inc.',\n",
       "  'Entity Aliases': ['Steven Paul Jobs', 'Steven Jobs']}]"
      ]
     },
     "execution_count": 73,
     "metadata": {},
     "output_type": "execute_result"
    }
   ],
   "source": [
    "if __name__ == \"__main__\":\n",
    "    #print(apple_dict)\n",
    "    print(find_property('Steven Jobs', apple_dict))"
   ]
  },
  {
   "cell_type": "code",
   "execution_count": null,
   "id": "1dc19225",
   "metadata": {},
   "outputs": [],
   "source": []
  }
 ],
 "metadata": {
  "kernelspec": {
   "display_name": "tf",
   "language": "python",
   "name": "tf"
  },
  "toc": {
   "base_numbering": 1,
   "nav_menu": {},
   "number_sections": true,
   "sideBar": true,
   "skip_h1_title": false,
   "title_cell": "Table of Contents",
   "title_sidebar": "Contents",
   "toc_cell": false,
   "toc_position": {},
   "toc_section_display": true,
   "toc_window_display": false
  }
 },
 "nbformat": 4,
 "nbformat_minor": 5
}
