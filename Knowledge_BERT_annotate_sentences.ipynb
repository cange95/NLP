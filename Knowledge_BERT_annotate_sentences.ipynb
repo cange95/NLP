{
 "cells": [
  {
   "cell_type": "markdown",
   "id": "8073fcd7",
   "metadata": {},
   "source": [
    "# Dependencies"
   ]
  },
  {
   "cell_type": "code",
   "execution_count": 1,
   "id": "e4485c5b",
   "metadata": {},
   "outputs": [],
   "source": [
    "#from transformers import BertTokenizer, BertModel\n",
    "import pandas as pd\n",
    "pd.options.display.max_colwidth = 100\n",
    "import numpy as np\n",
    "#from scipy.spatial.distance import cosine\n",
    "#import nltk\n",
    "#import torch\n",
    "\n",
    "import spacy\n",
    "import spacy_transformers\n",
    "from spacy import displacy\n",
    "from collections import Counter\n",
    "import en_core_web_trf\n",
    "nlp = en_core_web_trf.load()\n"
   ]
  },
  {
   "cell_type": "code",
   "execution_count": 2,
   "id": "89bfd471",
   "metadata": {},
   "outputs": [
    {
     "name": "stdout",
     "output_type": "stream",
     "text": [
      "Today is  2021-10-20\n"
     ]
    },
    {
     "name": "stderr",
     "output_type": "stream",
     "text": [
      "Some weights of the model checkpoint at bert-large-uncased were not used when initializing BertModel: ['cls.seq_relationship.bias', 'cls.predictions.decoder.weight', 'cls.predictions.transform.dense.bias', 'cls.seq_relationship.weight', 'cls.predictions.bias', 'cls.predictions.transform.LayerNorm.bias', 'cls.predictions.transform.dense.weight', 'cls.predictions.transform.LayerNorm.weight']\n",
      "- This IS expected if you are initializing BertModel from the checkpoint of a model trained on another task or with another architecture (e.g. initializing a BertForSequenceClassification model from a BertForPreTraining model).\n",
      "- This IS NOT expected if you are initializing BertModel from the checkpoint of a model that you expect to be exactly identical (initializing a BertForSequenceClassification model from a BertForSequenceClassification model).\n"
     ]
    }
   ],
   "source": [
    "###Others\n",
    "from ipynb.fs.full.SQL_wikidata import find_Qid\n",
    "from ipynb.fs.full.News_analysys/News_Scraper import scrape_ticker_fv\n",
    "from ipynb.fs.full.Knowledge_BERT_single_words import contextual_entity\n",
    "\n"
   ]
  },
  {
   "cell_type": "markdown",
   "id": "fa95701f",
   "metadata": {},
   "source": [
    "# Functions"
   ]
  },
  {
   "cell_type": "code",
   "execution_count": 3,
   "id": "3a82a9be",
   "metadata": {},
   "outputs": [],
   "source": [
    "def find_entities(s, verbose = 0):\n",
    "    \n",
    "    ###Annotate entities in text\n",
    "    nlp_s = nlp(s)\n",
    "    if verbose == 1:\n",
    "        displacy.render(nlp_s, jupyter=True, style='ent')\n",
    "        \n",
    "    excluded_labels = ['TIME', 'DATE', 'CARDINAL', 'ORDINAL', 'POSITIONAL', 'GPE', 'PERCENT', 'MONEY']\n",
    "    ents = [{'text':X.text, 'lemma':X.lemma_, 'label':X.label_, 's_char':X.start_char, 'e_char':X.end_char} for X in nlp_s.ents if X.label_ not in excluded_labels]\n",
    "    \n",
    "    return ents"
   ]
  },
  {
   "cell_type": "code",
   "execution_count": 4,
   "id": "e2ab44b8",
   "metadata": {},
   "outputs": [],
   "source": [
    "def sentence_preannotate(sentence, entities, company_info, verbose = 0):\n",
    "    \n",
    "    ###Use fixed description for company name\n",
    "    for i, ent in enumerate(entities):\n",
    "        if ent['text'].lower() in [info.lower() for info in company_info['aliases']]:\n",
    "\n",
    "            best_desc = \" (\" + company_info['description'] + \") \"        \n",
    "            sentence = sentence[:ent['e_char']] + best_desc + sentence[ent['e_char']:]\n",
    "            b_keep = ent['e_char']\n",
    "            company_des_len = len(best_desc) \n",
    "            entities.pop(i)\n",
    "            \n",
    "            return sentence, entities, b_keep, company_des_len\n",
    "\n",
    "    return sentence, entities, -1, 0\n",
    "    "
   ]
  },
  {
   "cell_type": "code",
   "execution_count": 5,
   "id": "f33cd39b",
   "metadata": {},
   "outputs": [],
   "source": [
    "def sentence_annotate(sentence, company_info, cutoff = 0.70, verbose = 0, kill_doubles = True):\n",
    "    \n",
    "    entities = find_entities(sentence, verbose = verbose)\n",
    "    sentence, entities, b_keep, company_des_len = sentence_preannotate(sentence, entities, company_info, verbose)\n",
    "\n",
    "    completed_entities = []\n",
    "    final_sentence = sentence\n",
    "    added_len = 0\n",
    "    for ent in entities:\n",
    "        ###Avoid double annotations\n",
    "        #if (kill_doubles and [ent['text'], ent['label']]  in completed_entities) or ent['text'].lower() in company_info['aliases']:\n",
    "        if (kill_doubles and ent['lemma']  in completed_entities) or ent['lemma'].lower() in company_info['aliases']:\n",
    "            continue\n",
    "        \n",
    "        try:\n",
    "            \n",
    "            distances = contextual_entity(ent['lemma'], sentence, ent['text'], verbose)\n",
    "            best_desc_ind = np.argmax(distances[\"distance\"].values)\n",
    "            best_dist = np.max(distances[\"distance\"].values)\n",
    "            best_desc = \" (\" + distances.iloc[best_desc_ind][\"snippet\"].replace(ent['text'] + \" is a \", \"\") + \") \"        \n",
    "            \n",
    "            ###Need to displace insertion point if it comes after the standard company description from preannotation.\n",
    "            if ent['e_char'] > b_keep: insert_at = ent['e_char'] + added_len + company_des_len\n",
    "            else: insert_at = ent['e_char'] + added_len                \n",
    "\n",
    "            ###Insert annotation only if confidence is high.\n",
    "            if best_dist > cutoff:\n",
    "                final_sentence = final_sentence[:insert_at] + best_desc + final_sentence[insert_at:]\n",
    "                added_len += len(best_desc)\n",
    "                completed_entities.append(ent['lemma'])\n",
    "            \n",
    "        except Exception as e: print(e)\n",
    "            \n",
    "    return final_sentence\n",
    "        \n"
   ]
  },
  {
   "cell_type": "markdown",
   "id": "4b6f589b",
   "metadata": {},
   "source": [
    "# Main"
   ]
  },
  {
   "cell_type": "code",
   "execution_count": 7,
   "id": "4d4aa442",
   "metadata": {},
   "outputs": [
    {
     "data": {
      "text/plain": [
       "{'aliases': ['Apple', 'Apple inc.', 'Apple inc'],\n",
       " 'description': 'American technology company based in Cupertino, California'}"
      ]
     },
     "execution_count": 7,
     "metadata": {},
     "output_type": "execute_result"
    }
   ],
   "source": [
    "company_info = {'aliases':['Apple', 'Apple inc.', 'Apple inc'], 'description':find_Qid('Apple Inc.')['description']}\n",
    "company_info"
   ]
  },
  {
   "cell_type": "code",
   "execution_count": 8,
   "id": "a1f66331",
   "metadata": {},
   "outputs": [],
   "source": [
    "###Download text\n",
    "news = [t[2] for t in scrape_ticker_fv('aapl', verbose = 0, filtering = 'apple')]"
   ]
  },
  {
   "cell_type": "code",
   "execution_count": 10,
   "id": "c796bc9d",
   "metadata": {},
   "outputs": [
    {
     "data": {
      "text/html": [
       "<span class=\"tex2jax_ignore\"><div class=\"entities\" style=\"line-height: 2.5; direction: ltr\">\n",
       "<mark class=\"entity\" style=\"background: #7aecec; padding: 0.45em 0.6em; margin: 0 0.25em; line-height: 1; border-radius: 0.35em;\">\n",
       "    Apple\n",
       "    <span style=\"font-size: 0.8em; font-weight: bold; line-height: 1; border-radius: 0.35em; vertical-align: middle; margin-left: 0.5rem\">ORG</span>\n",
       "</mark>\n",
       " event  live: \n",
       "<mark class=\"entity\" style=\"background: #bfeeb7; padding: 0.45em 0.6em; margin: 0 0.25em; line-height: 1; border-radius: 0.35em;\">\n",
       "    AirPods\n",
       "    <span style=\"font-size: 0.8em; font-weight: bold; line-height: 1; border-radius: 0.35em; vertical-align: middle; margin-left: 0.5rem\">PRODUCT</span>\n",
       "</mark>\n",
       " 3, new \n",
       "<mark class=\"entity\" style=\"background: #bfeeb7; padding: 0.45em 0.6em; margin: 0 0.25em; line-height: 1; border-radius: 0.35em;\">\n",
       "    MacBook Pro\n",
       "    <span style=\"font-size: 0.8em; font-weight: bold; line-height: 1; border-radius: 0.35em; vertical-align: middle; margin-left: 0.5rem\">PRODUCT</span>\n",
       "</mark>\n",
       ", \n",
       "<mark class=\"entity\" style=\"background: #7aecec; padding: 0.45em 0.6em; margin: 0 0.25em; line-height: 1; border-radius: 0.35em;\">\n",
       "    Apple Music\n",
       "    <span style=\"font-size: 0.8em; font-weight: bold; line-height: 1; border-radius: 0.35em; vertical-align: middle; margin-left: 0.5rem\">ORG</span>\n",
       "</mark>\n",
       " voice discount and more products unveiled</div></span>"
      ],
      "text/plain": [
       "<IPython.core.display.HTML object>"
      ]
     },
     "metadata": {},
     "output_type": "display_data"
    },
    {
     "name": "stdout",
     "output_type": "stream",
     "text": [
      "AirPods is a wireless headphones designed and sold by Apple Inc. 0.9042751434773778\n",
      "AirPods is a wireless earbuds designed and sold by Apple Inc. 0.8838199237549093\n",
      "AirPods is a wireless earbuds designed and sold by Apple Inc. 0.8838199237549093\n",
      "AirPods is a system on a chip (SoC) designed by Apple Inc. used in AirPods and a select variety of Beats headphones. 0.8801571095208066\n",
      "AirPods is a 2020 audio track by Astrid S 0.8686082209810049\n",
      "\n",
      "MacBook Pro is a laptop model by Apple 0.9002168012512097\n",
      "MacBook Pro is a scientific article published on 01 October 2019 0.886362401527318\n",
      "MacBook Pro is a Intel-based line of Macintosh notebook computers 0.8670542387190462\n",
      "MacBook Pro is a Wikimedia template 0.8614781052905796\n",
      "\n",
      "Apple Music is a mobile application developed by Apple 0.9012545328705068\n",
      "Apple Music is a Internet online music service by Apple 0.8928938204907422\n",
      "Apple Music is a music concert series held by Apple, Inc. 0.876347055365011\n",
      "Apple Music is a radio station operated by Apple Inc. 0.8531783083351774\n",
      "Apple Music is a chart 0.8376289746464178\n",
      "\n",
      "Apple (American technology company based in Cupertino, California)  event  live: AirPods (wireless headphones designed and sold by Apple Inc.)  3, new MacBook Pro (laptop model by Apple) , Apple Music (mobile application developed by Apple)  voice discount and more products unveiled\n"
     ]
    }
   ],
   "source": [
    "sentence = news[30]\n",
    "print(sentence_annotate(sentence, company_info, verbose = 1))"
   ]
  },
  {
   "cell_type": "code",
   "execution_count": 11,
   "id": "15927bb4",
   "metadata": {},
   "outputs": [
    {
     "data": {
      "text/html": [
       "<span class=\"tex2jax_ignore\"><div class=\"entities\" style=\"line-height: 2.5; direction: ltr\">\n",
       "<mark class=\"entity\" style=\"background: #7aecec; padding: 0.45em 0.6em; margin: 0 0.25em; line-height: 1; border-radius: 0.35em;\">\n",
       "    Apple\n",
       "    <span style=\"font-size: 0.8em; font-weight: bold; line-height: 1; border-radius: 0.35em; vertical-align: middle; margin-left: 0.5rem\">ORG</span>\n",
       "</mark>\n",
       " event  live: \n",
       "<mark class=\"entity\" style=\"background: #bfeeb7; padding: 0.45em 0.6em; margin: 0 0.25em; line-height: 1; border-radius: 0.35em;\">\n",
       "    AirPods\n",
       "    <span style=\"font-size: 0.8em; font-weight: bold; line-height: 1; border-radius: 0.35em; vertical-align: middle; margin-left: 0.5rem\">PRODUCT</span>\n",
       "</mark>\n",
       " 3, new \n",
       "<mark class=\"entity\" style=\"background: #bfeeb7; padding: 0.45em 0.6em; margin: 0 0.25em; line-height: 1; border-radius: 0.35em;\">\n",
       "    MacBook Pro\n",
       "    <span style=\"font-size: 0.8em; font-weight: bold; line-height: 1; border-radius: 0.35em; vertical-align: middle; margin-left: 0.5rem\">PRODUCT</span>\n",
       "</mark>\n",
       ", \n",
       "<mark class=\"entity\" style=\"background: #7aecec; padding: 0.45em 0.6em; margin: 0 0.25em; line-height: 1; border-radius: 0.35em;\">\n",
       "    Apple Music\n",
       "    <span style=\"font-size: 0.8em; font-weight: bold; line-height: 1; border-radius: 0.35em; vertical-align: middle; margin-left: 0.5rem\">ORG</span>\n",
       "</mark>\n",
       " voice discount and more products unveiled</div></span>"
      ],
      "text/plain": [
       "<IPython.core.display.HTML object>"
      ]
     },
     "metadata": {},
     "output_type": "display_data"
    },
    {
     "name": "stdout",
     "output_type": "stream",
     "text": [
      "AirPods is a wireless headphones designed and sold by Apple Inc. 0.9042751434773778\n",
      "AirPods is a wireless earbuds designed and sold by Apple Inc. 0.8838199237549093\n",
      "AirPods is a wireless earbuds designed and sold by Apple Inc. 0.8838199237549093\n",
      "AirPods is a system on a chip (SoC) designed by Apple Inc. used in AirPods and a select variety of Beats headphones. 0.8801571095208066\n",
      "AirPods is a 2020 audio track by Astrid S 0.8686082209810049\n",
      "\n",
      "MacBook Pro is a laptop model by Apple 0.9002168012512097\n",
      "MacBook Pro is a scientific article published on 01 October 2019 0.886362401527318\n",
      "MacBook Pro is a Intel-based line of Macintosh notebook computers 0.8670542387190462\n",
      "MacBook Pro is a Wikimedia template 0.8614781052905796\n",
      "\n",
      "Apple Music is a mobile application developed by Apple 0.9012545328705068\n",
      "Apple Music is a Internet online music service by Apple 0.8928938204907422\n",
      "Apple Music is a music concert series held by Apple, Inc. 0.876347055365011\n",
      "Apple Music is a radio station operated by Apple Inc. 0.8531783083351774\n",
      "Apple Music is a chart 0.8376289746464178\n",
      "\n",
      "Apple (American technology company based in Cupertino, California)  event  live: AirPods (wireless headphones designed and sold by Apple Inc.)  3, new MacBook Pro (laptop model by Apple) , Apple Music (mobile application developed by Apple)  voice discount and more products unveiled\n",
      "\n"
     ]
    },
    {
     "data": {
      "text/html": [
       "<span class=\"tex2jax_ignore\"><div class=\"entities\" style=\"line-height: 2.5; direction: ltr\">\n",
       "<mark class=\"entity\" style=\"background: #7aecec; padding: 0.45em 0.6em; margin: 0 0.25em; line-height: 1; border-radius: 0.35em;\">\n",
       "    Apple\n",
       "    <span style=\"font-size: 0.8em; font-weight: bold; line-height: 1; border-radius: 0.35em; vertical-align: middle; margin-left: 0.5rem\">ORG</span>\n",
       "</mark>\n",
       " unveils new \n",
       "<mark class=\"entity\" style=\"background: #bfeeb7; padding: 0.45em 0.6em; margin: 0 0.25em; line-height: 1; border-radius: 0.35em;\">\n",
       "    AirPods\n",
       "    <span style=\"font-size: 0.8em; font-weight: bold; line-height: 1; border-radius: 0.35em; vertical-align: middle; margin-left: 0.5rem\">PRODUCT</span>\n",
       "</mark>\n",
       " and high-end Mac computers as it expands its holiday lineup</div></span>"
      ],
      "text/plain": [
       "<IPython.core.display.HTML object>"
      ]
     },
     "metadata": {},
     "output_type": "display_data"
    },
    {
     "name": "stdout",
     "output_type": "stream",
     "text": [
      "AirPods is a wireless headphones designed and sold by Apple Inc. 0.884263706774613\n",
      "AirPods is a 2020 audio track by Astrid S 0.8776724092904558\n",
      "AirPods is a system on a chip (SoC) designed by Apple Inc. used in AirPods and a select variety of Beats headphones. 0.8608112783942227\n",
      "AirPods is a wireless earbuds designed and sold by Apple Inc. 0.8603688965760294\n",
      "AirPods is a wireless earbuds designed and sold by Apple Inc. 0.8603688965760294\n",
      "\n",
      "Apple (American technology company based in Cupertino, California)  unveils new AirPods (wireless headphones designed and sold by Apple Inc.)  and high-end Mac computers as it expands its holiday lineup\n",
      "\n"
     ]
    },
    {
     "data": {
      "text/html": [
       "<span class=\"tex2jax_ignore\"><div class=\"entities\" style=\"line-height: 2.5; direction: ltr\">\n",
       "<mark class=\"entity\" style=\"background: #7aecec; padding: 0.45em 0.6em; margin: 0 0.25em; line-height: 1; border-radius: 0.35em;\">\n",
       "    Apple Music\n",
       "    <span style=\"font-size: 0.8em; font-weight: bold; line-height: 1; border-radius: 0.35em; vertical-align: middle; margin-left: 0.5rem\">ORG</span>\n",
       "</mark>\n",
       " at half the normal price? Yes, there is a catch</div></span>"
      ],
      "text/plain": [
       "<IPython.core.display.HTML object>"
      ]
     },
     "metadata": {},
     "output_type": "display_data"
    },
    {
     "name": "stdout",
     "output_type": "stream",
     "text": [
      "Apple Music is a Internet online music service by Apple 0.8737458265202332\n",
      "Apple Music is a mobile application developed by Apple 0.8722074644262275\n",
      "Apple Music is a chart 0.8555329087380215\n",
      "Apple Music is a radio station operated by Apple Inc. 0.8467023879626735\n",
      "Apple Music is a music concert series held by Apple, Inc. 0.8383284622524054\n",
      "\n",
      "Apple Music (Internet online music service by Apple)  at half the normal price? Yes, there is a catch\n",
      "\n"
     ]
    },
    {
     "data": {
      "text/html": [
       "<span class=\"tex2jax_ignore\"><div class=\"entities\" style=\"line-height: 2.5; direction: ltr\">\n",
       "<mark class=\"entity\" style=\"background: #bfeeb7; padding: 0.45em 0.6em; margin: 0 0.25em; line-height: 1; border-radius: 0.35em;\">\n",
       "    MacOS\n",
       "    <span style=\"font-size: 0.8em; font-weight: bold; line-height: 1; border-radius: 0.35em; vertical-align: middle; margin-left: 0.5rem\">PRODUCT</span>\n",
       "</mark>\n",
       " \n",
       "<mark class=\"entity\" style=\"background: #feca74; padding: 0.45em 0.6em; margin: 0 0.25em; line-height: 1; border-radius: 0.35em;\">\n",
       "    Monterey\n",
       "    <span style=\"font-size: 0.8em; font-weight: bold; line-height: 1; border-radius: 0.35em; vertical-align: middle; margin-left: 0.5rem\">GPE</span>\n",
       "</mark>\n",
       " release date: \n",
       "<mark class=\"entity\" style=\"background: #7aecec; padding: 0.45em 0.6em; margin: 0 0.25em; line-height: 1; border-radius: 0.35em;\">\n",
       "    Apple\n",
       "    <span style=\"font-size: 0.8em; font-weight: bold; line-height: 1; border-radius: 0.35em; vertical-align: middle; margin-left: 0.5rem\">ORG</span>\n",
       "</mark>\n",
       " to release new computer operating system \n",
       "<mark class=\"entity\" style=\"background: #bfe1d9; padding: 0.45em 0.6em; margin: 0 0.25em; line-height: 1; border-radius: 0.35em;\">\n",
       "    next week\n",
       "    <span style=\"font-size: 0.8em; font-weight: bold; line-height: 1; border-radius: 0.35em; vertical-align: middle; margin-left: 0.5rem\">DATE</span>\n",
       "</mark>\n",
       "</div></span>"
      ],
      "text/plain": [
       "<IPython.core.display.HTML object>"
      ]
     },
     "metadata": {},
     "output_type": "display_data"
    },
    {
     "name": "stdout",
     "output_type": "stream",
     "text": [
      "MacOS is a family of operating systems produced since 1984 by Apple for Macintosh computers 0.9030223659735157\n",
      "MacOS is a operating system for Apple computers, launched in 2001 as Mac OS X 0.8905724000592091\n",
      "MacOS is a macOS 0.8825327365927005\n",
      "MacOS is a original operating system of Apple Mac (1984–2001) 0.8648926930345544\n",
      "MacOS is a 15th major version of the macOS operating system 0.8485888308214622\n",
      "\n",
      "MacOS (family of operating systems produced since 1984 by Apple for Macintosh computers)  Monterey release date: Apple (American technology company based in Cupertino, California)  to release new computer operating system next week\n",
      "\n"
     ]
    },
    {
     "data": {
      "text/html": [
       "<span class=\"tex2jax_ignore\"><div class=\"entities\" style=\"line-height: 2.5; direction: ltr\">\n",
       "<mark class=\"entity\" style=\"background: #7aecec; padding: 0.45em 0.6em; margin: 0 0.25em; line-height: 1; border-radius: 0.35em;\">\n",
       "    Apple\n",
       "    <span style=\"font-size: 0.8em; font-weight: bold; line-height: 1; border-radius: 0.35em; vertical-align: middle; margin-left: 0.5rem\">ORG</span>\n",
       "</mark>\n",
       " debuts new \n",
       "<mark class=\"entity\" style=\"background: #bfeeb7; padding: 0.45em 0.6em; margin: 0 0.25em; line-height: 1; border-radius: 0.35em;\">\n",
       "    MacBook Pros\n",
       "    <span style=\"font-size: 0.8em; font-weight: bold; line-height: 1; border-radius: 0.35em; vertical-align: middle; margin-left: 0.5rem\">PRODUCT</span>\n",
       "</mark>\n",
       " with \n",
       "<mark class=\"entity\" style=\"background: #bfeeb7; padding: 0.45em 0.6em; margin: 0 0.25em; line-height: 1; border-radius: 0.35em;\">\n",
       "    M1 Pro\n",
       "    <span style=\"font-size: 0.8em; font-weight: bold; line-height: 1; border-radius: 0.35em; vertical-align: middle; margin-left: 0.5rem\">PRODUCT</span>\n",
       "</mark>\n",
       " and \n",
       "<mark class=\"entity\" style=\"background: #bfeeb7; padding: 0.45em 0.6em; margin: 0 0.25em; line-height: 1; border-radius: 0.35em;\">\n",
       "    M1 Max\n",
       "    <span style=\"font-size: 0.8em; font-weight: bold; line-height: 1; border-radius: 0.35em; vertical-align: middle; margin-left: 0.5rem\">PRODUCT</span>\n",
       "</mark>\n",
       " chips</div></span>"
      ],
      "text/plain": [
       "<IPython.core.display.HTML object>"
      ]
     },
     "metadata": {},
     "output_type": "display_data"
    },
    {
     "name": "stdout",
     "output_type": "stream",
     "text": [
      "MacBook Pros is a Intel-based line of Macintosh notebook computers 0.8949870053361111\n",
      "MacBook Pros is a scientific article published on 01 October 2019 0.8514319754309648\n",
      "MacBook Pros is a Wikimedia template 0.8051535807874199\n",
      "MacBook Pros is a Wikimedia template 0.8051535807874199\n",
      "\n",
      "M1 Pro is a system on a chip (SoC) designed by Apple Inc. 0.9127741324313836\n",
      "M1 Pro is a system on a chip (SoC) designed by Apple Inc. for the Macintosh computers and iPad Pro tablets 0.9115101058962158\n",
      "M1 Pro is a 2018 Smartphone developed by Asus 0.8992021938902596\n",
      "M1 Pro is a form of competition that is facilitated by electronic systems, particularly video games 0.8284504034215787\n",
      "M1 Pro is a form of wrestling that combines athletics with theater 0.8274694545916563\n",
      "\n",
      "M1 Max is a system on a chip (SoC) designed by Apple Inc. 0.9127873602600503\n",
      "M1 Max is a German painter, draftsman, printmaker, sculptor and writer (1884-1950) 0.7851895728242126\n",
      "M1 Max is a German painter, sculptor and graphic artist (1891-1976) 0.778453775990934\n",
      "M1 Max is a German painter (1847-1935) 0.7694896808930626\n",
      "M1 Max is a German theoretical physicist 0.7669293561338177\n",
      "\n",
      "Apple (American technology company based in Cupertino, California)  debuts new MacBook Pros (Intel-based line of Macintosh notebook computers)  with M1 Pro (system on a chip (SoC) designed by Apple Inc.)  and M1 Max (system on a chip (SoC) designed by Apple Inc.)  chips\n",
      "\n"
     ]
    }
   ],
   "source": [
    "\n",
    "for c in news[30:35]:\n",
    "    try:\n",
    "        print(sentence_annotate(c, company_info, verbose = 1))\n",
    "        print(\"\")\n",
    "    except Exception as e: print(e, '\"\"')\n",
    "   "
   ]
  },
  {
   "cell_type": "code",
   "execution_count": null,
   "id": "32763ea9",
   "metadata": {},
   "outputs": [],
   "source": []
  }
 ],
 "metadata": {
  "kernelspec": {
   "display_name": "tf",
   "language": "python",
   "name": "tf"
  },
  "language_info": {
   "codemirror_mode": {
    "name": "ipython",
    "version": 3
   },
   "file_extension": ".py",
   "mimetype": "text/x-python",
   "name": "python",
   "nbconvert_exporter": "python",
   "pygments_lexer": "ipython3",
   "version": "3.6.13"
  },
  "toc": {
   "base_numbering": 1,
   "nav_menu": {},
   "number_sections": true,
   "sideBar": true,
   "skip_h1_title": false,
   "title_cell": "Table of Contents",
   "title_sidebar": "Contents",
   "toc_cell": false,
   "toc_position": {},
   "toc_section_display": true,
   "toc_window_display": false
  }
 },
 "nbformat": 4,
 "nbformat_minor": 5
}
